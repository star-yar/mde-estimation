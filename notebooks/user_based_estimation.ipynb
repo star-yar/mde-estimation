{
 "cells": [
  {
   "cell_type": "code",
   "execution_count": 1,
   "metadata": {},
   "outputs": [],
   "source": [
    "import sys\n",
    "from pathlib import Path\n",
    "sys.path.insert(0, str(Path('../src').resolve()))"
   ]
  },
  {
   "cell_type": "code",
   "execution_count": 2,
   "metadata": {},
   "outputs": [],
   "source": [
    "from btech_experiment import (\n",
    "    HistoricBasedSampleParams,\n",
    "    eval_strats_weights,\n",
    "    get_daily_users,\n",
    "    get_period,\n",
    "    get_user_sessions,\n",
    "    show_diagnostics,\n",
    "    load_credentials,\n",
    "    HistoricalUsersConversionsSampler,\n",
    "    UsersConversionsBootstrap,\n",
    ")\n",
    "from duration_estimator import (\n",
    "    Effect,\n",
    "    ExperimentDurationEstimator,\n",
    "    save_experiment_result,\n",
    ")"
   ]
  },
  {
   "cell_type": "code",
   "execution_count": 3,
   "metadata": {},
   "outputs": [],
   "source": [
    "VERBOSE = True\n",
    "PATH_TO_CREDENTIALS = '../data/credentials.json'"
   ]
  },
  {
   "cell_type": "code",
   "execution_count": 5,
   "metadata": {},
   "outputs": [
    {
     "name": "stdout",
     "output_type": "stream",
     "text": [
      "period = ('2022-09-01', '2022-10-01')\n"
     ]
    }
   ],
   "source": [
    "# get historical period\n",
    "period = get_period(\n",
    "    last_available_period_date='2022-10-01',\n",
    "    n_month_from_last_date=1,\n",
    ")\n",
    "print(f'{period = }')"
   ]
  },
  {
   "cell_type": "code",
   "execution_count": null,
   "metadata": {},
   "outputs": [
    {
     "name": "stderr",
     "output_type": "stream",
     "text": [
      "Downloading: 100%|██████████| 93/93 [00:00<00:00, 331.98rows/s]\n",
      "Downloading:  66%|██████▌   | 2151439/3271321 [01:37<00:50, 22062.22rows/s]"
     ]
    }
   ],
   "source": [
    "# load data\n",
    "credentials = load_credentials(PATH_TO_CREDENTIALS)\n",
    "df_daily_users = get_daily_users(*period, credentials)\n",
    "df_user_sessions = get_user_sessions(*period, credentials)\n",
    "\n",
    "# experiment setup\n",
    "expected_effect = Effect(0.05, is_additive=False)\n",
    "sample_params = HistoricBasedSampleParams(\n",
    "    share_of_all_users=0.5,\n",
    "    share_of_sample_for_pilot=0.9,\n",
    ")\n",
    "max_days = 30\n",
    "print(f'{sample_params = }')"
   ]
  },
  {
   "cell_type": "code",
   "execution_count": null,
   "metadata": {},
   "outputs": [],
   "source": [
    "# diagnostics\n",
    "show_diagnostics(df_daily_users, sample_params)"
   ]
  },
  {
   "cell_type": "code",
   "execution_count": null,
   "metadata": {},
   "outputs": [],
   "source": [
    "# components set up\n",
    "sample_generator = HistoricalUsersConversionsSampler(\n",
    "    df_daily_users=df_daily_users,\n",
    "    df_user_sessions=df_user_sessions,\n",
    ")\n",
    "experiment_conductor = UsersConversionsBootstrap(\n",
    "    strats_weights=eval_strats_weights(df_daily_users)\n",
    ")\n",
    "\n",
    "# duration estimator\n",
    "duration_estimator = ExperimentDurationEstimator(\n",
    "    effect=expected_effect,\n",
    "    sample_generator=sample_generator,\n",
    "    experiment_conductor=experiment_conductor,\n",
    "    sample_params=sample_params,\n",
    "    max_days=max_days,\n",
    ").fit(VERBOSE)\n",
    "\n",
    "save_experiment_result(period, duration_estimator, is_user_based_metric=True)"
   ]
  }
 ],
 "metadata": {
  "kernelspec": {
   "display_name": "Python 3",
   "language": "python",
   "name": "python3"
  },
  "language_info": {
   "codemirror_mode": {
    "name": "ipython",
    "version": 3
   },
   "file_extension": ".py",
   "mimetype": "text/x-python",
   "name": "python",
   "nbconvert_exporter": "python",
   "pygments_lexer": "ipython3",
   "version": "3.8.11"
  },
  "toc": {
   "base_numbering": 1,
   "nav_menu": {},
   "number_sections": false,
   "sideBar": true,
   "skip_h1_title": false,
   "title_cell": "Table of Contents",
   "title_sidebar": "Contents",
   "toc_cell": false,
   "toc_position": {},
   "toc_section_display": true,
   "toc_window_display": true
  }
 },
 "nbformat": 4,
 "nbformat_minor": 1
}
