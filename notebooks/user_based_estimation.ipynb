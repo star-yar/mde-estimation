{
 "cells": [
  {
   "cell_type": "markdown",
   "metadata": {},
   "source": [
    "# Experiment based on user conversions"
   ]
  },
  {
   "cell_type": "markdown",
   "metadata": {},
   "source": [
    "## Setup"
   ]
  },
  {
   "cell_type": "code",
   "execution_count": null,
   "metadata": {},
   "outputs": [],
   "source": [
    "import sys\n",
    "from pathlib import Path\n",
    "sys.path.insert(0, str(Path('../src').resolve()))"
   ]
  },
  {
   "cell_type": "code",
   "execution_count": null,
   "metadata": {},
   "outputs": [],
   "source": [
    "import logging\n",
    "\n",
    "import pandas as pd\n",
    "\n",
    "from btech_experiment import (\n",
    "    HistoricBasedSampleParams,\n",
    "    eval_strats_weights,\n",
    "    get_daily_users,\n",
    "    get_period,\n",
    "    get_user_sessions,\n",
    "    show_diagnostics,\n",
    "    plot_error_rates,\n",
    "    load_credentials,\n",
    "    HistoricalUsersConversionsSampler,\n",
    "    UsersConversionsBootstrap,\n",
    ")\n",
    "from duration_estimator import (\n",
    "    Effect,\n",
    "    ExperimentDurationEstimator,\n",
    "    save_experiment_result,\n",
    "    load_experiment_result,\n",
    "    \n",
    ")"
   ]
  },
  {
   "cell_type": "code",
   "execution_count": null,
   "metadata": {},
   "outputs": [],
   "source": [
    "logging.basicConfig(level=logging.INFO)\n",
    "\n",
    "VERBOSE = True\n",
    "DATA_PATH = Path('../data')\n",
    "PATH_TO_CREDENTIALS = str((DATA_PATH / 'credentials.json').resolve())\n",
    "EXPERIMENTS_DIR = DATA_PATH / 'experiments'"
   ]
  },
  {
   "cell_type": "markdown",
   "metadata": {},
   "source": [
    "## Pick historical period"
   ]
  },
  {
   "cell_type": "code",
   "execution_count": null,
   "metadata": {},
   "outputs": [],
   "source": [
    "period = get_period(\n",
    "    last_available_period_date='2022-10-01',\n",
    "    n_month_from_last_date=1,\n",
    ")\n",
    "print(f'{period = }')"
   ]
  },
  {
   "cell_type": "markdown",
   "metadata": {},
   "source": [
    "Skip the cell below in case data for the period you are loading haven't changed"
   ]
  },
  {
   "cell_type": "markdown",
   "metadata": {},
   "source": [
    "## Load data"
   ]
  },
  {
   "cell_type": "code",
   "execution_count": null,
   "metadata": {},
   "outputs": [],
   "source": [
    "# load data\n",
    "credentials = load_credentials(PATH_TO_CREDENTIALS)\n",
    "df_daily_users = get_daily_users(*period, credentials)\n",
    "df_user_sessions = get_user_sessions(*period, credentials)\n",
    "\n",
    "# save for future\n",
    "df_daily_users.to_pickle(DATA_PATH / 'df_daily_users.pkl')\n",
    "df_user_sessions.to_pickle(DATA_PATH / 'df_user_sessions.pkl')"
   ]
  },
  {
   "cell_type": "markdown",
   "metadata": {},
   "source": [
    "## Load pre-loaded data"
   ]
  },
  {
   "cell_type": "code",
   "execution_count": null,
   "metadata": {},
   "outputs": [],
   "source": [
    "df_daily_users = pd.read_pickle(DATA_PATH / 'df_daily_users_latest.pkl')\n",
    "df_user_sessions = pd.read_pickle(DATA_PATH / 'df_user_sessions_latest.pkl')"
   ]
  },
  {
   "cell_type": "markdown",
   "metadata": {},
   "source": [
    "## Experiment setup"
   ]
  },
  {
   "cell_type": "code",
   "execution_count": null,
   "metadata": {},
   "outputs": [],
   "source": [
    "expected_effect = Effect(0.05, is_additive=False)\n",
    "sample_params = HistoricBasedSampleParams(\n",
    "    share_of_all_users=0.1,\n",
    "    share_of_sample_for_pilot=0.9,\n",
    ")\n",
    "max_days = 30\n",
    "print(f'{sample_params = }')"
   ]
  },
  {
   "cell_type": "markdown",
   "metadata": {},
   "source": [
    "## Experiment diagnostics"
   ]
  },
  {
   "cell_type": "code",
   "execution_count": null,
   "metadata": {},
   "outputs": [],
   "source": [
    "show_diagnostics(df_daily_users, sample_params)"
   ]
  },
  {
   "cell_type": "markdown",
   "metadata": {},
   "source": [
    "## Estimation"
   ]
  },
  {
   "cell_type": "code",
   "execution_count": null,
   "metadata": {},
   "outputs": [],
   "source": [
    "# components set up\n",
    "sample_generator = HistoricalUsersConversionsSampler(\n",
    "    df_daily_users=df_daily_users,\n",
    "    df_user_sessions=df_user_sessions,\n",
    ")\n",
    "experiment_conductor = UsersConversionsBootstrap(\n",
    "    strats_weights=eval_strats_weights(df_daily_users)\n",
    ")\n",
    "\n",
    "# duration estimator\n",
    "duration_estimator = ExperimentDurationEstimator(\n",
    "    effect=expected_effect,\n",
    "    sample_generator=sample_generator,\n",
    "    experiment_conductor=experiment_conductor,\n",
    "    sample_params=sample_params,\n",
    "    max_days=max_days,\n",
    ")"
   ]
  },
  {
   "cell_type": "code",
   "execution_count": null,
   "metadata": {
    "scrolled": true
   },
   "outputs": [],
   "source": [
    "# fit duration estimator (that will take some time)\n",
    "duration_estimator.fit(verbose=VERBOSE)"
   ]
  },
  {
   "cell_type": "code",
   "execution_count": null,
   "metadata": {},
   "outputs": [],
   "source": [
    "# save results\n",
    "experiment_name = \"test_1\"\n",
    "\n",
    "save_experiment_result(\n",
    "    experiment_name,\n",
    "    duration_estimator,\n",
    "    experiments_dir=EXPERIMENTS_DIR,\n",
    ")"
   ]
  },
  {
   "cell_type": "markdown",
   "metadata": {},
   "source": [
    "## View experiment results"
   ]
  },
  {
   "cell_type": "code",
   "execution_count": null,
   "metadata": {},
   "outputs": [],
   "source": [
    "error_rates = load_experiment_result(\n",
    "    experiment_name=experiment_name,\n",
    "    experiments_dir=EXPERIMENTS_DIR\n",
    ")\n",
    "\n",
    "error_rates"
   ]
  },
  {
   "cell_type": "code",
   "execution_count": null,
   "metadata": {},
   "outputs": [],
   "source": [
    "plot_error_rates(error_rates)"
   ]
  }
 ],
 "metadata": {
  "kernelspec": {
   "display_name": "Python 3",
   "language": "python",
   "name": "python3"
  },
  "language_info": {
   "codemirror_mode": {
    "name": "ipython",
    "version": 3
   },
   "file_extension": ".py",
   "mimetype": "text/x-python",
   "name": "python",
   "nbconvert_exporter": "python",
   "pygments_lexer": "ipython3",
   "version": "3.8.11"
  },
  "toc": {
   "base_numbering": 1,
   "nav_menu": {},
   "number_sections": false,
   "sideBar": true,
   "skip_h1_title": false,
   "title_cell": "Table of Contents",
   "title_sidebar": "Contents",
   "toc_cell": false,
   "toc_position": {},
   "toc_section_display": true,
   "toc_window_display": true
  }
 },
 "nbformat": 4,
 "nbformat_minor": 1
}
