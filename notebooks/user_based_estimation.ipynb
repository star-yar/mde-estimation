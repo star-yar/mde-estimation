{
 "cells": [
  {
   "cell_type": "code",
   "execution_count": null,
   "outputs": [],
   "source": [
    "from btech_experiment import (\n",
    "    HistoricBasedSampleParams,\n",
    "    eval_strats_weights,\n",
    ")\n",
    "from btech_experiment.data_retrieval import (\n",
    "    get_daily_users,\n",
    "    get_period,\n",
    "    get_user_sessions,\n",
    ")\n",
    "from btech_experiment.diagnostics import show_diagnostics\n",
    "from btech_experiment.estimators import (\n",
    "    HistoricalUsersConversionsSampler,\n",
    "    UsersConversionsBootstrap,\n",
    ")\n",
    "from duration_estimator import (\n",
    "    Effect,\n",
    "    ExperimentDurationEstimator,\n",
    ")\n",
    "from duration_estimator.utils import save_experiment_result"
   ],
   "metadata": {
    "collapsed": false
   }
  },
  {
   "cell_type": "code",
   "execution_count": null,
   "outputs": [],
   "source": [
    "VERBOSE = True\n",
    "period = get_period(\n",
    "    # last_available_period_date='2021-12-01', n_month_from_last_date=1,\n",
    "    last_available_period_date='2022-10-01', n_month_from_last_date=1,\n",
    ")\n",
    "print(f'{period = }')\n",
    "\n",
    "# load data\n",
    "df_daily_users = get_daily_users(*period)\n",
    "df_user_sessions = get_user_sessions(*period)\n",
    "\n",
    "# experiment setup\n",
    "expected_effect = Effect(0.05, is_additive=False)\n",
    "sample_params = HistoricBasedSampleParams(\n",
    "    share_of_all_users=0.5,\n",
    "    share_of_sample_for_pilot=0.9,\n",
    ")\n",
    "max_days = 30\n",
    "print(f'{sample_params = }')\n",
    "\n",
    "# diagnostics\n",
    "show_diagnostics(df_daily_users, sample_params)\n",
    "\n",
    "# components set up\n",
    "sample_generator = HistoricalUsersConversionsSampler(\n",
    "    df_daily_users=df_daily_users,\n",
    "    df_user_sessions=df_user_sessions,\n",
    ")\n",
    "experiment_conductor = UsersConversionsBootstrap(\n",
    "    strats_weights=eval_strats_weights(df_daily_users)\n",
    ")\n",
    "\n",
    "# duration estimator\n",
    "duration_estimator = ExperimentDurationEstimator(\n",
    "    effect=expected_effect,\n",
    "    sample_generator=sample_generator,\n",
    "    experiment_conductor=experiment_conductor,\n",
    "    sample_params=sample_params,\n",
    "    max_days=max_days,\n",
    ").fit(VERBOSE)\n",
    "\n",
    "save_experiment_result(period, duration_estimator, is_user_based_metric=True)\n"
   ],
   "metadata": {
    "collapsed": false
   }
  }
 ],
 "metadata": {
  "kernelspec": {
   "display_name": "Python 3",
   "language": "python",
   "name": "python3"
  },
  "language_info": {
   "codemirror_mode": {
    "name": "ipython",
    "version": 2
   },
   "file_extension": ".py",
   "mimetype": "text/x-python",
   "name": "python",
   "nbconvert_exporter": "python",
   "pygments_lexer": "ipython2",
   "version": "2.7.6"
  }
 },
 "nbformat": 4,
 "nbformat_minor": 0
}
